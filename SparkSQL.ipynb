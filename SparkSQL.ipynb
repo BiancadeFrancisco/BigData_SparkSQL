{
  "nbformat": 4,
  "nbformat_minor": 0,
  "metadata": {
    "colab": {
      "provenance": [],
      "authorship_tag": "ABX9TyNTLi9aCQka/u7g14rfakSp",
      "include_colab_link": true
    },
    "kernelspec": {
      "name": "python3",
      "display_name": "Python 3"
    },
    "language_info": {
      "name": "python"
    }
  },
  "cells": [
    {
      "cell_type": "markdown",
      "metadata": {
        "id": "view-in-github",
        "colab_type": "text"
      },
      "source": [
        "<a href=\"https://colab.research.google.com/github/BiancadeFrancisco/BigData_SparkSQL/blob/main/SparkSQL.ipynb\" target=\"_parent\"><img src=\"https://colab.research.google.com/assets/colab-badge.svg\" alt=\"Open In Colab\"/></a>"
      ]
    },
    {
      "cell_type": "markdown",
      "source": [
        "#INSTALAR SPARK"
      ],
      "metadata": {
        "id": "r0-h8323HAxG"
      }
    },
    {
      "cell_type": "code",
      "execution_count": 1,
      "metadata": {
        "id": "vBCgwWUyoWBi",
        "colab": {
          "base_uri": "https://localhost:8080/"
        },
        "outputId": "d781c26d-4fc5-4ab3-eb59-b458cf3af1ec"
      },
      "outputs": [
        {
          "output_type": "stream",
          "name": "stdout",
          "text": [
            "Collecting pyspark\n",
            "  Downloading pyspark-3.5.0.tar.gz (316.9 MB)\n",
            "\u001b[2K     \u001b[90m━━━━━━━━━━━━━━━━━━━━━━━━━━━━━━━━━━━━━━━━\u001b[0m \u001b[32m316.9/316.9 MB\u001b[0m \u001b[31m2.0 MB/s\u001b[0m eta \u001b[36m0:00:00\u001b[0m\n",
            "\u001b[?25h  Preparing metadata (setup.py) ... \u001b[?25l\u001b[?25hdone\n",
            "Requirement already satisfied: py4j==0.10.9.7 in /usr/local/lib/python3.10/dist-packages (from pyspark) (0.10.9.7)\n",
            "Building wheels for collected packages: pyspark\n",
            "  Building wheel for pyspark (setup.py) ... \u001b[?25l\u001b[?25hdone\n",
            "  Created wheel for pyspark: filename=pyspark-3.5.0-py2.py3-none-any.whl size=317425344 sha256=361c779a18d26be4b7f89e181d922223c5c7cbf5728846d89703a8c9c58ec100\n",
            "  Stored in directory: /root/.cache/pip/wheels/41/4e/10/c2cf2467f71c678cfc8a6b9ac9241e5e44a01940da8fbb17fc\n",
            "Successfully built pyspark\n",
            "Installing collected packages: pyspark\n",
            "Successfully installed pyspark-3.5.0\n"
          ]
        }
      ],
      "source": [
        "!pip install pyspark #==3.3.1"
      ]
    },
    {
      "cell_type": "code",
      "source": [
        "!wget https://bin.equinox.io/c/4VmDzA7iaHb/ngrok-stable-linux-amd64.zip\n",
        "!unzip ngrok-stable-linux-amd64.zip"
      ],
      "metadata": {
        "colab": {
          "base_uri": "https://localhost:8080/"
        },
        "id": "hSPPhdu4ofdN",
        "outputId": "158ab051-f9ec-4e21-c177-65bcd54d467b"
      },
      "execution_count": 2,
      "outputs": [
        {
          "output_type": "stream",
          "name": "stdout",
          "text": [
            "--2023-10-19 13:19:37--  https://bin.equinox.io/c/4VmDzA7iaHb/ngrok-stable-linux-amd64.zip\n",
            "Resolving bin.equinox.io (bin.equinox.io)... 54.237.133.81, 54.161.241.46, 52.202.168.65, ...\n",
            "Connecting to bin.equinox.io (bin.equinox.io)|54.237.133.81|:443... connected.\n",
            "HTTP request sent, awaiting response... 200 OK\n",
            "Length: 13921656 (13M) [application/octet-stream]\n",
            "Saving to: ‘ngrok-stable-linux-amd64.zip’\n",
            "\n",
            "ngrok-stable-linux- 100%[===================>]  13.28M  38.3MB/s    in 0.3s    \n",
            "\n",
            "2023-10-19 13:19:37 (38.3 MB/s) - ‘ngrok-stable-linux-amd64.zip’ saved [13921656/13921656]\n",
            "\n",
            "Archive:  ngrok-stable-linux-amd64.zip\n",
            "  inflating: ngrok                   \n"
          ]
        }
      ]
    },
    {
      "cell_type": "markdown",
      "source": [
        "# INICIAR SESSÃO SPARK"
      ],
      "metadata": {
        "id": "lJNXxU0kHQlW"
      }
    },
    {
      "cell_type": "code",
      "source": [
        "from pyspark.sql import SparkSession\n",
        "from pyspark import SparkContext, SparkConf\n",
        "\n",
        "# ConfigureSparkUI\n",
        "conf = SparkConf().set('spark.ui.port', '4050')\n",
        "sc = SparkContext(conf=conf)\n",
        "sc.stop()\n",
        "\n",
        "spark = (\n",
        "    SparkSession.builder                  # Método da classe que constrói a sessão spark\n",
        "      .appName(\"Meu Primeiro App Spark\")  # Nome do App Spark\n",
        "      .getOrCreate())                     # Verifica se há uma sessão ativa, e se não há, cria uma nova sessão\n"
      ],
      "metadata": {
        "id": "dReuMFxIog0w"
      },
      "execution_count": 3,
      "outputs": []
    },
    {
      "cell_type": "code",
      "source": [
        "!curl -s http://localhost:4040/api/tunnels"
      ],
      "metadata": {
        "id": "chLboszBogvD"
      },
      "execution_count": 4,
      "outputs": []
    },
    {
      "cell_type": "markdown",
      "source": [
        "# SparkSQL"
      ],
      "metadata": {
        "id": "NqP6GEx9onD2"
      }
    },
    {
      "cell_type": "code",
      "source": [
        "from pyspark.sql.types import StructType, StructField, IntegerType, DoubleType, StringType, TimestampType\n",
        "\n",
        "caminho_csv = \"./base_de_dados.csv\"\n",
        "\n",
        "schema_base_pix = StructType([\n",
        "    StructField('id', IntegerType()),\n",
        "    StructField('valor', DoubleType()),\n",
        "    StructField('parte_debitada_nome', StringType()),\n",
        "    StructField('parte_debitada_conta', StringType()),\n",
        "    StructField('parte_debitada_banco', StringType()),\n",
        "    StructField('parte_creditada_nome', StringType()),\n",
        "    StructField('parte_creditada_conta', StringType()),\n",
        "    StructField('parte_creditada_banco', StringType()),\n",
        "    StructField('chave_pix_tipo', StringType()),\n",
        "    StructField('chave_pix_valor', StringType()),\n",
        "    StructField('data_transacao', TimestampType())\n",
        "])\n",
        "\n",
        "df = spark.read.csv(\n",
        "    path=caminho_csv,\n",
        "    header=True,\n",
        "    sep=\";\",\n",
        "    schema=schema_base_pix,\n",
        "    timestampFormat=\"dd/MM/yyyy HH:mm\"\n",
        ")\n",
        "spark.read.csv(\n",
        "    path=caminho_csv,\n",
        "    header=True,\n",
        "    sep=\";\",\n",
        "    schema=schema_base_pix,\n",
        "    timestampFormat=\"dd/MM/yyyy HH:mm\"\n",
        ").createOrReplaceTempView(\"base_pix\")   # CRIEI UMA TABELA COM O NOME BASE_PIX"
      ],
      "metadata": {
        "id": "82nMKdHlogo_"
      },
      "execution_count": 6,
      "outputs": []
    },
    {
      "cell_type": "code",
      "source": [
        "spark.sql(\"select * from base_pix limit 10\").show()"
      ],
      "metadata": {
        "colab": {
          "base_uri": "https://localhost:8080/"
        },
        "id": "V3s6Gt3Qogd4",
        "outputId": "ca307807-0d5f-47f4-fd61-88f8270a13bf"
      },
      "execution_count": 7,
      "outputs": [
        {
          "output_type": "stream",
          "name": "stdout",
          "text": [
            "+---+--------+--------------------+--------------------+--------------------+--------------------+---------------------+---------------------+--------------+---------------+-------------------+\n",
            "| id|   valor| parte_debitada_nome|parte_debitada_conta|parte_debitada_banco|parte_creditada_nome|parte_creditada_conta|parte_creditada_banco|chave_pix_tipo|chave_pix_valor|     data_transacao|\n",
            "+---+--------+--------------------+--------------------+--------------------+--------------------+---------------------+---------------------+--------------+---------------+-------------------+\n",
            "|  1|    9.93|Dra. Ana Carolina...|            79470453|              Nubank|       Maysa da Cruz|             67162333|                 Itau|           cpf|     8439752610|2022-02-18 13:28:00|\n",
            "|  2|   15.38|        Ana Caldeira|            19689668|                Itau|        Evelyn Sales|             60005091|             Bradesco|           cpf|    27145380617|2022-04-08 01:47:00|\n",
            "|  3|   57.58|    Arthur Goncalves|            18856899|            Bradesco|          Maria Melo|             13496303|                  BTG|           cpf|    16452937006|2022-07-14 03:18:00|\n",
            "|  4|53705.13|  Ana Julia Caldeira|            22834741|                Itau|   Ana Livia Almeida|             44695116|               Nubank|           cpf|    26590384142|2022-01-15 18:06:00|\n",
            "|  5|25299.69|  Srta. Nicole Pinto|             3715882|              Nubank|Srta. Ana Laura d...|             21409465|               Nubank|           cpf|    73486105280|2022-05-13 11:04:00|\n",
            "|  6| 7165.06|   Gabriela Ferreira|             2243037|              Nubank|       Larissa Souza|             10689552|                 Itau|           cpf|    96845371237|2022-09-11 13:38:00|\n",
            "|  7|    6.16|    Heloisa da Rocha|            59778949|                 BTG|Dra. Vitoria Silv...|             56583792|               Nubank|           cpf|    89064175357|2021-12-10 12:37:00|\n",
            "|  8|  136.36|Srta. Isadora Cor...|            77102442|              Nubank|  Francisco da Costa|             96088386|               Nubank|           cpf|    85907632429|2021-12-30 23:18:00|\n",
            "|  9|  574.39|   Dr. Lucas da Cruz|            38501170|                 BTG|       Calebe da Luz|             19365554|             Bradesco|           cpf|    64720189520|2021-06-21 07:20:00|\n",
            "| 10|   42.88|     Mirella Martins|            29535709|            Bradesco|        Danilo Lopes|             60064650|                 Itau|           cpf|    87014935232|2022-09-21 17:19:00|\n",
            "+---+--------+--------------------+--------------------+--------------------+--------------------+---------------------+---------------------+--------------+---------------+-------------------+\n",
            "\n"
          ]
        }
      ]
    },
    {
      "cell_type": "code",
      "source": [
        "# Descubra a quantidade total de transações na base de dados:\n",
        "\n",
        "spark.sql(\n",
        "    \"\"\"\n",
        "      select count(*) as qtd_transacoes from base_pix\n",
        "    \"\"\"\n",
        ").show()"
      ],
      "metadata": {
        "colab": {
          "base_uri": "https://localhost:8080/"
        },
        "id": "Lw2cOg0_H8Ht",
        "outputId": "4af0d42a-a7bd-4157-b16f-5d5d2e26e429"
      },
      "execution_count": 18,
      "outputs": [
        {
          "output_type": "stream",
          "name": "stdout",
          "text": [
            "+--------------+\n",
            "|qtd_transacoes|\n",
            "+--------------+\n",
            "|           100|\n",
            "+--------------+\n",
            "\n"
          ]
        }
      ]
    },
    {
      "cell_type": "code",
      "source": [
        "# Qual foi a quantia total de dinheiro transacional em cada ano?\n",
        "\n",
        "spark.sql(\n",
        "    \"\"\"\n",
        "      select\n",
        "        year(data_transacao),\n",
        "        sum(valor)\n",
        "      from base_pix\n",
        "      group by 1\n",
        "    \"\"\"\n",
        ").show()"
      ],
      "metadata": {
        "colab": {
          "base_uri": "https://localhost:8080/"
        },
        "id": "z5oiUtMVIXJt",
        "outputId": "674cd547-7331-42ce-971e-065f47f3e9ca"
      },
      "execution_count": 19,
      "outputs": [
        {
          "output_type": "stream",
          "name": "stdout",
          "text": [
            "+--------------------+------------------+\n",
            "|year(data_transacao)|        sum(valor)|\n",
            "+--------------------+------------------+\n",
            "|                2022|517980.58999999973|\n",
            "|                2021| 848320.6000000001|\n",
            "+--------------------+------------------+\n",
            "\n"
          ]
        }
      ]
    },
    {
      "cell_type": "code",
      "source": [
        "# Descubra a quantidade de dinheiro que entrou na Nubank em todo o período.\n",
        "\n",
        "spark.sql(\n",
        "    \"\"\"\n",
        "      select sum(valor)\n",
        "      from base_pix\n",
        "      where parte_creditada_banco = 'Nubank'\n",
        "    \"\"\"\n",
        ").show()"
      ],
      "metadata": {
        "colab": {
          "base_uri": "https://localhost:8080/"
        },
        "id": "o6ax7TRiIW-_",
        "outputId": "dfe1f551-73d9-4c6c-f5db-6306be394fde"
      },
      "execution_count": 20,
      "outputs": [
        {
          "output_type": "stream",
          "name": "stdout",
          "text": [
            "+----------+\n",
            "|sum(valor)|\n",
            "+----------+\n",
            "| 302224.64|\n",
            "+----------+\n",
            "\n"
          ]
        }
      ]
    },
    {
      "cell_type": "code",
      "source": [
        "# Retorne a quantidade de transações agrupadas por tipo de chave.\n",
        "\n",
        "spark.sql(\n",
        "    \"\"\"\n",
        "      select chave_pix_tipo, count(*)\n",
        "      from base_pix\n",
        "      group by chave_pix_tipo\n",
        "    \"\"\"\n",
        ").show()"
      ],
      "metadata": {
        "colab": {
          "base_uri": "https://localhost:8080/"
        },
        "id": "xiSc9-qxIWz1",
        "outputId": "1f81854d-b73f-482f-e7fb-2b371529145d"
      },
      "execution_count": 21,
      "outputs": [
        {
          "output_type": "stream",
          "name": "stdout",
          "text": [
            "+--------------+--------+\n",
            "|chave_pix_tipo|count(1)|\n",
            "+--------------+--------+\n",
            "|       celular|      22|\n",
            "|         email|      29|\n",
            "|           cpf|      49|\n",
            "+--------------+--------+\n",
            "\n"
          ]
        }
      ]
    },
    {
      "cell_type": "code",
      "source": [
        "# Descubra qual é a média, mínima e máxima do valor de todas as transações.\n",
        "\n",
        "spark.sql(\n",
        "    \"\"\"\n",
        "      select max(valor), min(valor), mean(valor) from base_pix limit 10\n",
        "    \"\"\"\n",
        ").show()"
      ],
      "metadata": {
        "colab": {
          "base_uri": "https://localhost:8080/"
        },
        "id": "c5AXX01yIWpK",
        "outputId": "561d6da3-bb66-4f0a-e826-a2a321949c68"
      },
      "execution_count": 22,
      "outputs": [
        {
          "output_type": "stream",
          "name": "stdout",
          "text": [
            "+----------+----------+------------------+\n",
            "|max(valor)|min(valor)|       mean(valor)|\n",
            "+----------+----------+------------------+\n",
            "|  95977.62|      0.03|13663.011899999998|\n",
            "+----------+----------+------------------+\n",
            "\n"
          ]
        }
      ]
    },
    {
      "cell_type": "code",
      "source": [
        "# Quais foram as 5 maiores transações durante todo o período?\n",
        "\n",
        "spark.sql(\n",
        "    \"\"\"\n",
        "      select * from base_pix\n",
        "      order by valor desc\n",
        "      limit 5\n",
        "    \"\"\"\n",
        ").show()"
      ],
      "metadata": {
        "colab": {
          "base_uri": "https://localhost:8080/"
        },
        "id": "Qe7xHrVwIWc8",
        "outputId": "884e19ff-383f-40b8-f1fa-16baec4e3d62"
      },
      "execution_count": 23,
      "outputs": [
        {
          "output_type": "stream",
          "name": "stdout",
          "text": [
            "+---+--------+--------------------+--------------------+--------------------+--------------------+---------------------+---------------------+--------------+--------------------+-------------------+\n",
            "| id|   valor| parte_debitada_nome|parte_debitada_conta|parte_debitada_banco|parte_creditada_nome|parte_creditada_conta|parte_creditada_banco|chave_pix_tipo|     chave_pix_valor|     data_transacao|\n",
            "+---+--------+--------------------+--------------------+--------------------+--------------------+---------------------+---------------------+--------------+--------------------+-------------------+\n",
            "| 54|95977.62|   Henrique Ferreira|             6269315|              Nubank|Sra. Maria Luiza ...|             68542779|                  BTG|           cpf|         14957860211|2021-09-22 10:17:00|\n",
            "| 86|94736.79|Joao Vitor Cavalc...|            52265189|                 BTG|        Stella Gomes|             93858790|               Nubank|         email|stella.gomes@yaho...|2021-01-26 00:04:00|\n",
            "| 97|94586.45|      Henrique Pinto|            69273106|            Bradesco|        Heitor Silva|             81541742|                 Itau|         email|heitor.silva@yaho...|2021-09-06 10:57:00|\n",
            "| 78|81977.98|      Giovanna Costa|            37809286|                Itau|Joao Guilherme Ramos|             75756231|             Bradesco|         email|joao.guilherme.ra...|2021-02-16 18:57:00|\n",
            "| 71|80083.34|      Eduarda Campos|            12495530|                 BTG|       Olivia da Luz|             30630489|                  BTG|           cpf|         42617803996|2021-11-16 10:58:00|\n",
            "+---+--------+--------------------+--------------------+--------------------+--------------------+---------------------+---------------------+--------------+--------------------+-------------------+\n",
            "\n"
          ]
        }
      ]
    },
    {
      "cell_type": "code",
      "source": [
        "# Para o banco BTG, mostre qual é a chave pix mais utilizada para enviar ou receber transações.\n",
        "spark.sql(\n",
        "    \"\"\"\n",
        "      select chave_pix_tipo, count(*)\n",
        "      from base_pix\n",
        "      where parte_debitada_banco = 'BTG' or parte_creditada_banco = 'BTG'\n",
        "      group by 1\n",
        "      order by 2 desc\n",
        "    \"\"\"\n",
        ").show()"
      ],
      "metadata": {
        "colab": {
          "base_uri": "https://localhost:8080/"
        },
        "id": "g3ytnT-nIt4e",
        "outputId": "2a86b8e8-c8f4-4cef-ca33-515e0798716c"
      },
      "execution_count": 24,
      "outputs": [
        {
          "output_type": "stream",
          "name": "stdout",
          "text": [
            "+--------------+--------+\n",
            "|chave_pix_tipo|count(1)|\n",
            "+--------------+--------+\n",
            "|           cpf|      22|\n",
            "|         email|      15|\n",
            "|       celular|      13|\n",
            "+--------------+--------+\n",
            "\n"
          ]
        }
      ]
    },
    {
      "cell_type": "code",
      "source": [
        "# Descubra qual foi a maior transação de cada mês na base de dados.\n",
        "spark.sql(\n",
        "    \"\"\"\n",
        "    with cte_base_row(\n",
        "        select\n",
        "        id,\n",
        "        valor,\n",
        "        date_format(data_transacao, 'y-MM') as ano_mes,\n",
        "        row_number() over (\n",
        "          partition by date_format(data_transacao, 'y-MM')\n",
        "          order by valor desc\n",
        "        ) as row_number\n",
        "      from base_pix\n",
        "    ) select\n",
        "        id,\n",
        "        valor,\n",
        "        ano_mes\n",
        "      from cte_base_row\n",
        "      where row_number = 1\n",
        "    \"\"\"\n",
        ").show()"
      ],
      "metadata": {
        "colab": {
          "base_uri": "https://localhost:8080/"
        },
        "id": "HAYk0cfdItwt",
        "outputId": "2046d75d-bb13-418a-9b16-444d1ecac595"
      },
      "execution_count": 26,
      "outputs": [
        {
          "output_type": "stream",
          "name": "stdout",
          "text": [
            "+---+--------+-------+\n",
            "| id|   valor|ano_mes|\n",
            "+---+--------+-------+\n",
            "| 86|94736.79|2021-01|\n",
            "| 78|81977.98|2021-02|\n",
            "| 88|78347.58|2021-03|\n",
            "| 44|   459.2|2021-04|\n",
            "| 68|  611.53|2021-05|\n",
            "| 52|60139.23|2021-06|\n",
            "| 76| 9320.87|2021-07|\n",
            "| 73|  570.52|2021-08|\n",
            "| 54|95977.62|2021-09|\n",
            "| 32| 1508.83|2021-10|\n",
            "| 71|80083.34|2021-11|\n",
            "| 40|  829.87|2021-12|\n",
            "| 79| 78559.4|2022-01|\n",
            "| 35| 7944.02|2022-02|\n",
            "| 55|35409.61|2022-03|\n",
            "| 31|20875.64|2022-04|\n",
            "| 47|38219.08|2022-05|\n",
            "| 36|48714.95|2022-06|\n",
            "| 18|49836.72|2022-07|\n",
            "| 12| 4374.56|2022-08|\n",
            "+---+--------+-------+\n",
            "only showing top 20 rows\n",
            "\n"
          ]
        }
      ]
    },
    {
      "cell_type": "code",
      "source": [
        "# Crie uma nova coluna que contenha o valor da transação em dólar.\n",
        "spark.sql(\n",
        "    \"\"\"\n",
        "      select id, valor, round(valor * 5.06, 2) as valor_dolar from base_pix limit 10\n",
        "    \"\"\"\n",
        ").show()\n",
        "\n",
        "# COTAÇÃO DÓLAR 19/10/2023 = R$ 5,06"
      ],
      "metadata": {
        "colab": {
          "base_uri": "https://localhost:8080/"
        },
        "id": "Wln0bRfjItnZ",
        "outputId": "231d4105-9ed0-4751-c184-ad0310b8321b"
      },
      "execution_count": 28,
      "outputs": [
        {
          "output_type": "stream",
          "name": "stdout",
          "text": [
            "+---+--------+-----------+\n",
            "| id|   valor|valor_dolar|\n",
            "+---+--------+-----------+\n",
            "|  1|    9.93|      50.25|\n",
            "|  2|   15.38|      77.82|\n",
            "|  3|   57.58|     291.35|\n",
            "|  4|53705.13|  271747.96|\n",
            "|  5|25299.69|  128016.43|\n",
            "|  6| 7165.06|    36255.2|\n",
            "|  7|    6.16|      31.17|\n",
            "|  8|  136.36|     689.98|\n",
            "|  9|  574.39|    2906.41|\n",
            "| 10|   42.88|     216.97|\n",
            "+---+--------+-----------+\n",
            "\n"
          ]
        }
      ]
    }
  ]
}